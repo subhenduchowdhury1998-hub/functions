{
  "nbformat": 4,
  "nbformat_minor": 0,
  "metadata": {
    "colab": {
      "provenance": []
    },
    "kernelspec": {
      "name": "python3",
      "display_name": "Python 3"
    },
    "language_info": {
      "name": "python"
    }
  },
  "cells": [
    {
      "cell_type": "markdown",
      "source": [],
      "metadata": {
        "id": "jiKO0U-FQEaG"
      }
    },
    {
      "cell_type": "markdown",
      "source": [
        "\n",
        "1. What is the difference between a function and a method in Python?\n",
        "\n",
        "->Function: Defined using def and can be called independently.\n",
        "\n",
        "->Method: A function that is associated with an object (belongs to a class).\n",
        "\n",
        "\n",
        "Example:\n",
        "\n",
        "# Function\n",
        "def greet(name):\n",
        "    return f\"Hello, {name}\"\n",
        "\n",
        "print(greet(\"Subhendu\"))  # Function call\n",
        "\n",
        "# Method\n",
        "text = \"python\"\n",
        "print(text.upper())  # .upper() is a method of string objects\n",
        "\n",
        "---\n",
        "\n",
        "2. Explain the concept of function arguments and parameters in Python.\n",
        "\n",
        "\n",
        "->Parameter: A variable in the function definition.\n",
        "\n",
        "->Argument: The actual value passed when calling the function.\n",
        "\n",
        "\n",
        "Example:\n",
        "\n",
        "def add(a, b):  # a and b are parameters\n",
        "    return a + b\n",
        "\n",
        "print(add(5, 3))  # 5 and 3 are arguments\n",
        "\n",
        "---\n",
        "\n",
        "\n",
        "3. What are the different ways to define and call a function in Python?\n",
        "\n",
        "->Normal function (def)\n",
        "\n",
        "Lambda function (anonymous)\n",
        "\n",
        "Calling by position, keyword, default, variable-length arguments\n",
        "\n",
        "\n",
        "Example:\n",
        "\n",
        "# Normal function\n",
        "def square(x):\n",
        "    return x * x\n",
        "print(square(4))\n",
        "\n",
        "# Lambda function\n",
        "sq = lambda x: x * x\n",
        "print(sq(5))\n",
        "\n",
        "# Keyword argument\n",
        "def greet(name, msg=\"Hello\"):\n",
        "    return f\"{msg}, {name}\"\n",
        "print(greet(name=\"Subhendu\"))\n",
        "\n",
        "\n",
        "---\n",
        "\n",
        "4. What is the purpose of the return statement in a Python function?\n",
        "\n",
        "->It is used to send a value back to the caller from a function.\n",
        "\n",
        "Example:\n",
        "\n",
        "def multiply(a, b):\n",
        "    return a * b\n",
        "\n",
        "result = multiply(3, 4)\n",
        "print(result)  # 12\n",
        "\n",
        "\n",
        "---\n",
        "\n",
        "5. What are iterators in Python and how do they differ from iterables?\n",
        "\n",
        "->Iterable: An object that can be looped over (like list, tuple, string).\n",
        "\n",
        "->Iterator: An object that produces elements from an iterable one at a time using _next_().\n",
        "\n",
        "\n",
        "Example:\n",
        "\n",
        "nums = [1, 2, 3]   # Iterable\n",
        "it = iter(nums)    # Iterator\n",
        "print(next(it))    # 1\n",
        "print(next(it))    # 2\n",
        "\n",
        "\n",
        "---\n",
        "\n",
        "6. Explain the concept of generators in Python and how they are defined.\n",
        "\n",
        "->Generator: A special function that yields values one at a time using yield.\n",
        "\n",
        "Saves memory because it does not store all values at once.\n",
        "\n",
        "\n",
        "Example:\n",
        "\n",
        "def gen_nums():\n",
        "    for i in range(3):\n",
        "        yield i\n",
        "\n",
        "for n in gen_nums():\n",
        "    print(n)   # 0,1,2\n",
        "\n",
        "\n",
        "---\n",
        "\n",
        "7.What are the advantages of using generators over regular functions?\n",
        "\n",
        "->Memory efficient (values generated on demand).\n",
        "\n",
        "Useful for handling large datasets.\n",
        "\n",
        "Maintain state between calls.\n",
        "\n",
        "\n",
        "Example: Instead of storing a million numbers in a list, use a generator to produce them one by one.\n",
        "\n",
        "\n",
        "---\n",
        "\n",
        "8. What is a lambda function in Python and when is it typically used?\n",
        "\n",
        "->Lambda function: Small anonymous function created with lambda.\n",
        "\n",
        "Used for short, one-time operations (often with map, filter, reduce).\n",
        "\n",
        "\n",
        "Example:\n",
        "\n",
        "square = lambda x: x*x\n",
        "print(square(6))  # 36\n",
        "\n",
        "\n",
        "---\n",
        "\n",
        "9. Explain the purpose and usage of the map() function in Python.\n",
        "\n",
        "->Applies a function to each element of an iterable.\n",
        "\n",
        "\n",
        "Example:\n",
        "\n",
        "nums = [1, 2, 3, 4]\n",
        "squares = list(map(lambda x: x*x, nums))\n",
        "print(squares)  # [1, 4, 9, 16]\n",
        "\n",
        "\n",
        "---\n",
        "\n",
        "10. What is the difference between map(), reduce(), and filter() functions in Python?\n",
        "\n",
        "map() → Applies a function to every item.\n",
        "\n",
        "filter() → Filters items based on a condition.\n",
        "\n",
        "reduce() → Reduces sequence to a single value (needs functools.reduce).\n",
        "\n",
        "\n",
        "Example:\n",
        "\n",
        "from functools import reduce\n",
        "\n",
        "nums = [1, 2, 3, 4]\n",
        "\n",
        "print(list(map(lambda x: x*x, nums)))      # [1,4,9,16]\n",
        "print(list(filter(lambda x: x%2==0, nums))) # [2,4]\n",
        "print(reduce(lambda a,b: a+b, nums))  #10\n",
        "\n",
        "---\n",
        "\n",
        "11. Using pen & paper write the internal mechanism for sum operation using reduce() on [47, 11, 42, 13].\n",
        "\n",
        "Step by step reduction:\n",
        "\n",
        "\n",
        "reduce(lambda a,b: a+b, [47, 11, 42, 13])\n",
        "\n",
        "= (((47+11)+42)+13)\n",
        "= (58+42)+13\n",
        "= 100+13\n",
        "= 113\n",
        "\n",
        "Answer: 113\n"
      ],
      "metadata": {
        "id": "8Hkqrw_8W-FD"
      }
    },
    {
      "cell_type": "code",
      "source": [
        "#1 Write a Python function that takes a list of numbers as input and returns the sum of all even numbers in the list.\n",
        "\n",
        "def sum_of_evens(numbers):\n",
        "    total = 0\n",
        "    for num in numbers:\n",
        "        if num % 2 == 0:  # check if even\n",
        "            total += num\n",
        "    return total\n",
        "\n",
        "\n",
        "# Example usage:\n",
        "nums = [1, 2, 3, 4, 5, 6]\n",
        "print(sum_of_evens(nums))\n",
        "\n",
        "\n"
      ],
      "metadata": {
        "colab": {
          "base_uri": "https://localhost:8080/"
        },
        "id": "04uBBhyfePT-",
        "outputId": "acfe8f6c-e260-42c1-abad-2dc56a06faff"
      },
      "execution_count": 4,
      "outputs": [
        {
          "output_type": "stream",
          "name": "stdout",
          "text": [
            "12\n"
          ]
        }
      ]
    },
    {
      "cell_type": "code",
      "source": [
        "#2. Create a Python function that accepts a string and returns the reverse of that string.\n",
        "def reverse_string(text):\n",
        "    return text[::-1]\n",
        "\n",
        "# Example\n",
        "print(reverse_string(\"hello\"))\n"
      ],
      "metadata": {
        "colab": {
          "base_uri": "https://localhost:8080/"
        },
        "id": "5pWJcHqjeiKx",
        "outputId": "a7d62193-a58c-4d8a-c86c-cdac35abb88a"
      },
      "execution_count": 5,
      "outputs": [
        {
          "output_type": "stream",
          "name": "stdout",
          "text": [
            "olleh\n"
          ]
        }
      ]
    },
    {
      "cell_type": "code",
      "source": [
        "'''3. Implement a Python function that takes a list of integers and returns a new list containing the squares of\n",
        "each number'''\n",
        "\n",
        "def square_list(numbers):\n",
        "    return [num ** 2 for num in numbers]\n",
        "\n",
        "# Example\n",
        "print(square_list([1, 2, 3, 4]))\n"
      ],
      "metadata": {
        "colab": {
          "base_uri": "https://localhost:8080/"
        },
        "id": "UVAkhc4_fuA6",
        "outputId": "f2ab528b-345f-43ef-c162-688efb2d96e3"
      },
      "execution_count": 6,
      "outputs": [
        {
          "output_type": "stream",
          "name": "stdout",
          "text": [
            "[1, 4, 9, 16]\n"
          ]
        }
      ]
    },
    {
      "cell_type": "code",
      "source": [
        "#4. Write a Python function that checks if a given number is prime or not from 1 to 200.\n",
        "def is_prime(n):\n",
        "    if n < 2:\n",
        "        return False\n",
        "    for i in range(2, int(n**0.5) + 1):\n",
        "        if n % i == 0:\n",
        "            return False\n",
        "    return True\n",
        "\n",
        "# Example: check numbers from 1 to 20\n",
        "for i in range(1, 21):\n",
        "    if is_prime(i):\n",
        "        print(i, \"is prime\")\n"
      ],
      "metadata": {
        "colab": {
          "base_uri": "https://localhost:8080/"
        },
        "id": "DUHlynupgcSU",
        "outputId": "2a31298f-0481-4d9a-ac9e-20e3b51bb8b4"
      },
      "execution_count": 7,
      "outputs": [
        {
          "output_type": "stream",
          "name": "stdout",
          "text": [
            "2 is prime\n",
            "3 is prime\n",
            "5 is prime\n",
            "7 is prime\n",
            "11 is prime\n",
            "13 is prime\n",
            "17 is prime\n",
            "19 is prime\n"
          ]
        }
      ]
    },
    {
      "cell_type": "code",
      "source": [
        "'''5. Create an iterator class in Python that generates the Fibonacci sequence up to a specified number of\n",
        "terms.'''\n",
        "\n",
        "class Fibonacci:\n",
        "    def __init__(self, terms):\n",
        "        self.terms = terms\n",
        "        self.a, self.b = 0, 1\n",
        "        self.count = 0\n",
        "\n",
        "    def __iter__(self):\n",
        "        return self\n",
        "\n",
        "    def __next__(self):\n",
        "        if self.count < self.terms:\n",
        "            value = self.a\n",
        "            self.a, self.b = self.b, self.a + self.b\n",
        "            self.count += 1\n",
        "            return value\n",
        "        else:\n",
        "            raise StopIteration\n",
        "\n",
        "# Example\n",
        "for num in Fibonacci(6):\n",
        "    print(num)\n"
      ],
      "metadata": {
        "colab": {
          "base_uri": "https://localhost:8080/"
        },
        "id": "Z0vAH2R1g-Dw",
        "outputId": "34d23a79-4dd8-4de5-f93c-30e4829c7aa0"
      },
      "execution_count": 9,
      "outputs": [
        {
          "output_type": "stream",
          "name": "stdout",
          "text": [
            "0\n",
            "1\n",
            "1\n",
            "2\n",
            "3\n",
            "5\n"
          ]
        }
      ]
    },
    {
      "cell_type": "code",
      "source": [
        "#6. Write a generator function in Python that yields the powers of 2 up to a given exponent\n",
        "def powers_of_two(n):\n",
        "    for i in range(n + 1):\n",
        "        yield 2 ** i\n",
        "\n",
        "# Example\n",
        "for val in powers_of_two(5):\n",
        "    print(val)  # Output: 1 2 4 8 16 32\n"
      ],
      "metadata": {
        "colab": {
          "base_uri": "https://localhost:8080/"
        },
        "id": "C-jXy7-PhpZX",
        "outputId": "2827326d-bcb2-44e0-c171-3719bce9b614"
      },
      "execution_count": 10,
      "outputs": [
        {
          "output_type": "stream",
          "name": "stdout",
          "text": [
            "1\n",
            "2\n",
            "4\n",
            "8\n",
            "16\n",
            "32\n"
          ]
        }
      ]
    },
    {
      "cell_type": "code",
      "source": [
        "#7. Implement a generator function that reads a file line by line and yields each line as a string.\n",
        "\n",
        "def read_file(filename):\n",
        "    with open(filename, \"r\") as file:\n",
        "        for line in file:\n",
        "            yield line.strip()\n",
        "\n",
        "# Example (assume \"sample.txt\" has 3 lines)\n",
        "for line in read_file(\"sample.txt\"):\n",
        "    print(line)\n",
        "\n"
      ],
      "metadata": {
        "colab": {
          "base_uri": "https://localhost:8080/"
        },
        "id": "ymGeQ5lBjXa0",
        "outputId": "5fb77ecc-bd86-420a-af89-43328490fe88"
      },
      "execution_count": 14,
      "outputs": [
        {
          "output_type": "stream",
          "name": "stdout",
          "text": [
            "This is line 1.\n",
            "This is line 2.\n",
            "This is line 3.\n"
          ]
        }
      ]
    },
    {
      "cell_type": "code",
      "source": [
        "#8. Use a lambda function in Python to sort a list of tuples based on the second element of each tuple.\n",
        "\n",
        "data = [(1, 3), (2, 1), (4, 2)]\n",
        "sorted_data = sorted(data, key=lambda x: x[1])\n",
        "print(sorted_data)\n"
      ],
      "metadata": {
        "colab": {
          "base_uri": "https://localhost:8080/"
        },
        "id": "-zL0d9hdj-QM",
        "outputId": "57536697-af51-4c1f-a968-f84afdf33900"
      },
      "execution_count": 15,
      "outputs": [
        {
          "output_type": "stream",
          "name": "stdout",
          "text": [
            "[(2, 1), (4, 2), (1, 3)]\n"
          ]
        }
      ]
    },
    {
      "cell_type": "code",
      "source": [
        "#9. Write a Python program that uses `map()` to convert a list of temperatures from Celsius to Fahrenheit.\n",
        "celsius = [0, 20, 30, 40]\n",
        "fahrenheit = list(map(lambda c: (c * 9/5) + 32, celsius))\n",
        "print(fahrenheit)\n"
      ],
      "metadata": {
        "colab": {
          "base_uri": "https://localhost:8080/"
        },
        "id": "Qn0JCV0qka1X",
        "outputId": "d0ad4be6-a2f5-46f3-9399-23e8d15f1097"
      },
      "execution_count": 16,
      "outputs": [
        {
          "output_type": "stream",
          "name": "stdout",
          "text": [
            "[32.0, 68.0, 86.0, 104.0]\n"
          ]
        }
      ]
    },
    {
      "cell_type": "code",
      "source": [
        "#10. Create a Python program that uses `filter()` to remove all the vowels from a given string.\n",
        "\n",
        "def remove_vowels(text):\n",
        "    vowels = \"aeiouAEIOU\"\n",
        "    return \"\".join(filter(lambda x: x not in vowels, text))\n",
        "\n",
        "# Example\n",
        "print(remove_vowels(\"Hello, World!\"))\n",
        "\n"
      ],
      "metadata": {
        "colab": {
          "base_uri": "https://localhost:8080/"
        },
        "id": "bTpnnUBfk2We",
        "outputId": "69eeab6f-b296-4153-869e-252447915224"
      },
      "execution_count": 17,
      "outputs": [
        {
          "output_type": "stream",
          "name": "stdout",
          "text": [
            "Hll, Wrld!\n"
          ]
        }
      ]
    },
    {
      "cell_type": "code",
      "source": [
        "#11) Imagine an accounting routine used in a book shop. It works on a list with sublists, which look like this:\n",
        "# Input data\n",
        "orders = [\n",
        "    [34587, \"Learning Python, Mark Lutz\", 4, 40.95],\n",
        "    [98762, \"Programming Python, Mark Lutz\", 5, 56.80],\n",
        "    [77226, \"Head First Python, Paul Barry\", 3, 32.95],\n",
        "    [88112, \"Einführung in Python3, Bernd Klein\", 3, 24.99]\n",
        "]\n",
        "\n",
        "# Use map with lambda\n",
        "result = list(map(lambda x: (\n",
        "    x[0],  # Order number\n",
        "    x[2] * x[3] if x[2] * x[3] >= 100 else x[2] * x[3] + 10\n",
        "), orders))\n",
        "\n",
        "print(result)\n",
        "\n",
        "\n",
        "\n",
        "\n",
        "\n",
        "\n",
        "\n"
      ],
      "metadata": {
        "colab": {
          "base_uri": "https://localhost:8080/"
        },
        "id": "lBQyMgw1m5SM",
        "outputId": "3d099612-eb91-4bb9-d457-d3a4312157fc"
      },
      "execution_count": 18,
      "outputs": [
        {
          "output_type": "stream",
          "name": "stdout",
          "text": [
            "[(34587, 163.8), (98762, 284.0), (77226, 108.85000000000001), (88112, 84.97)]\n"
          ]
        }
      ]
    }
  ]
}